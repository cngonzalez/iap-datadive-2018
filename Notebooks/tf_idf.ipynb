{
 "cells": [
  {
   "cell_type": "code",
   "execution_count": 264,
   "metadata": {},
   "outputs": [],
   "source": [
    "from __future__ import print_function\n",
    "\n",
    "from pprint import pprint\n",
    "from time import time\n",
    "import logging\n",
    "\n",
    "from sklearn.datasets import fetch_20newsgroups\n",
    "from sklearn.feature_extraction.text import CountVectorizer\n",
    "from sklearn.feature_extraction.text import TfidfTransformer\n",
    "from sklearn.linear_model import SGDClassifier\n",
    "from sklearn.model_selection import GridSearchCV\n",
    "from sklearn.pipeline import Pipeline\n",
    "import pandas as pd\n",
    "import numpy as np\n",
    "import matplotlib.pyplot as plt\n",
    "\n",
    "from nltk.corpus import stopwords"
   ]
  },
  {
   "cell_type": "markdown",
   "metadata": {},
   "source": [
    "# Read in Dataset"
   ]
  },
  {
   "cell_type": "code",
   "execution_count": 265,
   "metadata": {},
   "outputs": [],
   "source": [
    "project_data = pd.read_pickle('../Data/EWS_Published Project_Listing_DD.pkl')"
   ]
  },
  {
   "cell_type": "code",
   "execution_count": 266,
   "metadata": {},
   "outputs": [],
   "source": [
    "data = pd.read_pickle('../Data/Feedly_Processed_DF_cleaned.pkl')"
   ]
  },
  {
   "cell_type": "code",
   "execution_count": 267,
   "metadata": {},
   "outputs": [],
   "source": [
    "train_data = pd.read_csv('../Data/Labeled_Data/sectors.csv')"
   ]
  },
  {
   "cell_type": "code",
   "execution_count": 268,
   "metadata": {},
   "outputs": [],
   "source": [
    "data_with_sectors = data.merge(train_data[['article_id', 'Sectors', 'cl_Sector', 'top_sector']],\n",
    "                    on='article_id')"
   ]
  },
  {
   "cell_type": "markdown",
   "metadata": {},
   "source": [
    "# Process train data"
   ]
  },
  {
   "cell_type": "code",
   "execution_count": 269,
   "metadata": {},
   "outputs": [],
   "source": [
    "labeled_data = data_with_sectors.dropna(how='all',\n",
    "    subset=['Sectors', 'cl_Sector', 'top_sector'])"
   ]
  },
  {
   "cell_type": "code",
   "execution_count": 270,
   "metadata": {
    "scrolled": true
   },
   "outputs": [
    {
     "data": {
      "text/plain": [
       "(296, 14)"
      ]
     },
     "execution_count": 270,
     "metadata": {},
     "output_type": "execute_result"
    }
   ],
   "source": [
    "labeled_data.shape"
   ]
  },
  {
   "cell_type": "code",
   "execution_count": 271,
   "metadata": {},
   "outputs": [
    {
     "data": {
      "text/html": [
       "<div>\n",
       "<style scoped>\n",
       "    .dataframe tbody tr th:only-of-type {\n",
       "        vertical-align: middle;\n",
       "    }\n",
       "\n",
       "    .dataframe tbody tr th {\n",
       "        vertical-align: top;\n",
       "    }\n",
       "\n",
       "    .dataframe thead th {\n",
       "        text-align: right;\n",
       "    }\n",
       "</style>\n",
       "<table border=\"1\" class=\"dataframe\">\n",
       "  <thead>\n",
       "    <tr style=\"text-align: right;\">\n",
       "      <th></th>\n",
       "      <th>article_id</th>\n",
       "      <th>title</th>\n",
       "      <th>url</th>\n",
       "      <th>feed_label</th>\n",
       "      <th>content</th>\n",
       "      <th>published</th>\n",
       "      <th>summary</th>\n",
       "      <th>article_text</th>\n",
       "      <th>article_keywords</th>\n",
       "      <th>article_text_len</th>\n",
       "      <th>top_lang</th>\n",
       "      <th>Sectors</th>\n",
       "      <th>cl_Sector</th>\n",
       "      <th>top_sector</th>\n",
       "    </tr>\n",
       "  </thead>\n",
       "  <tbody>\n",
       "    <tr>\n",
       "      <th>0</th>\n",
       "      <td>5eca9220</td>\n",
       "      <td>AfDB, GCF partner on 'Desert-to-Power' scheme</td>\n",
       "      <td>http://thenationonlineng.net/afdb-gcf-partner-...</td>\n",
       "      <td>NEWS AFDB- All Streams</td>\n",
       "      <td>NaN</td>\n",
       "      <td>2018-05-31 19:02:38</td>\n",
       "      <td>&lt;table border=\"0\" cellspacing=\"3\" cellpadding=...</td>\n",
       "      <td>The African Development Bank (AfDB), Green Cli...</td>\n",
       "      <td>[region, development, africa50, deserttopower,...</td>\n",
       "      <td>2770</td>\n",
       "      <td>en</td>\n",
       "      <td>Not a project</td>\n",
       "      <td>MISC</td>\n",
       "      <td>MISC</td>\n",
       "    </tr>\n",
       "    <tr>\n",
       "      <th>1</th>\n",
       "      <td>ee5530a3</td>\n",
       "      <td>AIIB approves $1.5 bln of loans to India for i...</td>\n",
       "      <td>https://www.reuters.com/article/aiib-india-inv...</td>\n",
       "      <td>NEWS AIIB - All Streams</td>\n",
       "      <td>NaN</td>\n",
       "      <td>2018-02-27 04:08:22</td>\n",
       "      <td>&lt;table border=\"0\" cellspacing=\"3\" cellpadding=...</td>\n",
       "      <td>NEW DELHI, Feb 27 (Reuters) - China-based Asia...</td>\n",
       "      <td>[senior, urban, tuesdaythe, india, bln, used, ...</td>\n",
       "      <td>506</td>\n",
       "      <td>en</td>\n",
       "      <td>transport</td>\n",
       "      <td>transport</td>\n",
       "      <td>transport</td>\n",
       "    </tr>\n",
       "    <tr>\n",
       "      <th>2</th>\n",
       "      <td>185416ad</td>\n",
       "      <td>India, ADB sign USD 250 million loan agreement...</td>\n",
       "      <td>https://steelguru.com/auto/india-adb-sign-usd-...</td>\n",
       "      <td>NEWS ADB - All Streams</td>\n",
       "      <td>NaN</td>\n",
       "      <td>2018-02-01 04:39:23</td>\n",
       "      <td>&lt;table border=\"0\" cellspacing=\"3\" cellpadding=...</td>\n",
       "      <td>Here are some suggestions that matches your en...</td>\n",
       "      <td>[click, responsibilitiesfeatured, resultsnewsc...</td>\n",
       "      <td>239</td>\n",
       "      <td>en</td>\n",
       "      <td>Transport</td>\n",
       "      <td>transport</td>\n",
       "      <td>transport</td>\n",
       "    </tr>\n",
       "    <tr>\n",
       "      <th>3</th>\n",
       "      <td>ef56fb55</td>\n",
       "      <td>EIB approves $1.8bn financing for Trans-Adriat...</td>\n",
       "      <td>http://transportationandstorage.energy-busines...</td>\n",
       "      <td>NEWS EIB - All streams</td>\n",
       "      <td>NaN</td>\n",
       "      <td>2018-02-07 04:59:49</td>\n",
       "      <td>&lt;table border=\"0\" cellspacing=\"3\" cellpadding=...</td>\n",
       "      <td>Compelo is using cookies\\n\\nWe use them to giv...</td>\n",
       "      <td>[cookieswe, experience, website, websiteclose,...</td>\n",
       "      <td>184</td>\n",
       "      <td>en</td>\n",
       "      <td>Energy</td>\n",
       "      <td>energy</td>\n",
       "      <td>energy</td>\n",
       "    </tr>\n",
       "    <tr>\n",
       "      <th>4</th>\n",
       "      <td>85f28676</td>\n",
       "      <td>EBRD increases its portfolio in Azerbaijan</td>\n",
       "      <td>https://en.trend.az/business/economy/2884342.html</td>\n",
       "      <td>NEWS EBRD - All streams</td>\n",
       "      <td>NaN</td>\n",
       "      <td>2018-04-09 08:03:22</td>\n",
       "      <td>&lt;table border=\"0\" cellspacing=\"3\" cellpadding=...</td>\n",
       "      <td>Baku, Azerbaijan, April 9\\n\\nBy Anvar Mammadov...</td>\n",
       "      <td>[ebrd, billion, 2018, portfolio, million, proj...</td>\n",
       "      <td>1703</td>\n",
       "      <td>en</td>\n",
       "      <td>Industry and Trade</td>\n",
       "      <td>industry and trade</td>\n",
       "      <td>industry and trade</td>\n",
       "    </tr>\n",
       "  </tbody>\n",
       "</table>\n",
       "</div>"
      ],
      "text/plain": [
       "  article_id                                              title  \\\n",
       "0   5eca9220      AfDB, GCF partner on 'Desert-to-Power' scheme   \n",
       "1   ee5530a3  AIIB approves $1.5 bln of loans to India for i...   \n",
       "2   185416ad  India, ADB sign USD 250 million loan agreement...   \n",
       "3   ef56fb55  EIB approves $1.8bn financing for Trans-Adriat...   \n",
       "4   85f28676         EBRD increases its portfolio in Azerbaijan   \n",
       "\n",
       "                                                 url               feed_label  \\\n",
       "0  http://thenationonlineng.net/afdb-gcf-partner-...   NEWS AFDB- All Streams   \n",
       "1  https://www.reuters.com/article/aiib-india-inv...  NEWS AIIB - All Streams   \n",
       "2  https://steelguru.com/auto/india-adb-sign-usd-...   NEWS ADB - All Streams   \n",
       "3  http://transportationandstorage.energy-busines...   NEWS EIB - All streams   \n",
       "4  https://en.trend.az/business/economy/2884342.html  NEWS EBRD - All streams   \n",
       "\n",
       "  content           published  \\\n",
       "0     NaN 2018-05-31 19:02:38   \n",
       "1     NaN 2018-02-27 04:08:22   \n",
       "2     NaN 2018-02-01 04:39:23   \n",
       "3     NaN 2018-02-07 04:59:49   \n",
       "4     NaN 2018-04-09 08:03:22   \n",
       "\n",
       "                                             summary  \\\n",
       "0  <table border=\"0\" cellspacing=\"3\" cellpadding=...   \n",
       "1  <table border=\"0\" cellspacing=\"3\" cellpadding=...   \n",
       "2  <table border=\"0\" cellspacing=\"3\" cellpadding=...   \n",
       "3  <table border=\"0\" cellspacing=\"3\" cellpadding=...   \n",
       "4  <table border=\"0\" cellspacing=\"3\" cellpadding=...   \n",
       "\n",
       "                                        article_text  \\\n",
       "0  The African Development Bank (AfDB), Green Cli...   \n",
       "1  NEW DELHI, Feb 27 (Reuters) - China-based Asia...   \n",
       "2  Here are some suggestions that matches your en...   \n",
       "3  Compelo is using cookies\\n\\nWe use them to giv...   \n",
       "4  Baku, Azerbaijan, April 9\\n\\nBy Anvar Mammadov...   \n",
       "\n",
       "                                    article_keywords  article_text_len  \\\n",
       "0  [region, development, africa50, deserttopower,...              2770   \n",
       "1  [senior, urban, tuesdaythe, india, bln, used, ...               506   \n",
       "2  [click, responsibilitiesfeatured, resultsnewsc...               239   \n",
       "3  [cookieswe, experience, website, websiteclose,...               184   \n",
       "4  [ebrd, billion, 2018, portfolio, million, proj...              1703   \n",
       "\n",
       "  top_lang             Sectors           cl_Sector          top_sector  \n",
       "0       en       Not a project                MISC                MISC  \n",
       "1       en           transport           transport           transport  \n",
       "2       en           Transport           transport           transport  \n",
       "3       en              Energy              energy              energy  \n",
       "4       en  Industry and Trade  industry and trade  industry and trade  "
      ]
     },
     "execution_count": 271,
     "metadata": {},
     "output_type": "execute_result"
    }
   ],
   "source": [
    "labeled_data.head()"
   ]
  },
  {
   "cell_type": "code",
   "execution_count": 272,
   "metadata": {},
   "outputs": [
    {
     "name": "stdout",
     "output_type": "stream",
     "text": [
      "[nltk_data] Downloading package stopwords to /Users/cng/nltk_data...\n",
      "[nltk_data]   Package stopwords is already up-to-date!\n"
     ]
    },
    {
     "data": {
      "text/plain": [
       "True"
      ]
     },
     "execution_count": 272,
     "metadata": {},
     "output_type": "execute_result"
    }
   ],
   "source": [
    "import nltk\n",
    "nltk.download('stopwords')"
   ]
  },
  {
   "cell_type": "code",
   "execution_count": 273,
   "metadata": {},
   "outputs": [],
   "source": [
    "stop = stopwords.words('english')"
   ]
  },
  {
   "cell_type": "code",
   "execution_count": 274,
   "metadata": {},
   "outputs": [],
   "source": [
    "labeled_data['article_text'] = labeled_data['article_text'].apply(\n",
    "    lambda x: ' '.join([word for word in x.split(' ') if word not in stop]))"
   ]
  },
  {
   "cell_type": "markdown",
   "metadata": {},
   "source": [
    "# Introduce Tf-Idf Vectorizer"
   ]
  },
  {
   "cell_type": "markdown",
   "metadata": {},
   "source": [
    "following this tutorial at this point to explore! https://buhrmann.github.io/tfidf-analysis.html"
   ]
  },
  {
   "cell_type": "code",
   "execution_count": 275,
   "metadata": {},
   "outputs": [],
   "source": [
    "from sklearn.feature_extraction.text import TfidfVectorizer\n",
    "vectorizer = TfidfVectorizer()\n",
    "#article_matrix = vectorizer.fit_transform(labeled_data_horiz['article_text'])"
   ]
  },
  {
   "cell_type": "code",
   "execution_count": 276,
   "metadata": {},
   "outputs": [],
   "source": [
    "pip = Pipeline([('vec', vectorizer)])"
   ]
  },
  {
   "cell_type": "code",
   "execution_count": 277,
   "metadata": {},
   "outputs": [],
   "source": [
    "train_data = labeled_data[:250]\n",
    "test_data = labeled_data.loc[250:]"
   ]
  },
  {
   "cell_type": "code",
   "execution_count": 278,
   "metadata": {},
   "outputs": [
    {
     "data": {
      "text/plain": [
       "Index(['article_id', 'title', 'url', 'feed_label', 'content', 'published',\n",
       "       'summary', 'article_text', 'article_keywords', 'article_text_len',\n",
       "       'top_lang', 'Sectors', 'cl_Sector', 'top_sector'],\n",
       "      dtype='object')"
      ]
     },
     "execution_count": 278,
     "metadata": {},
     "output_type": "execute_result"
    }
   ],
   "source": [
    "train_data.columns"
   ]
  },
  {
   "cell_type": "code",
   "execution_count": 281,
   "metadata": {},
   "outputs": [],
   "source": [
    "Xtr = pip.fit_transform(train_data['article_text'])"
   ]
  },
  {
   "cell_type": "code",
   "execution_count": 282,
   "metadata": {},
   "outputs": [],
   "source": [
    "vec = pip.named_steps['vec']"
   ]
  },
  {
   "cell_type": "code",
   "execution_count": 283,
   "metadata": {},
   "outputs": [],
   "source": [
    "features = vec.get_feature_names()"
   ]
  },
  {
   "cell_type": "code",
   "execution_count": 284,
   "metadata": {},
   "outputs": [
    {
     "data": {
      "text/plain": [
       "7382"
      ]
     },
     "execution_count": 284,
     "metadata": {},
     "output_type": "execute_result"
    }
   ],
   "source": [
    "len(features)"
   ]
  },
  {
   "cell_type": "code",
   "execution_count": 285,
   "metadata": {},
   "outputs": [],
   "source": [
    "def top_tfidf_feats(row, features, top_n=25):\n",
    "    ''' Get top n tfidf values in row and return them with their corresponding feature names.'''\n",
    "    topn_ids = np.argsort(row)[::-1][:top_n]\n",
    "    top_feats = [(features[i], row[i]) for i in topn_ids]\n",
    "    df = pd.DataFrame(top_feats)\n",
    "    df.columns = ['feature', 'tfidf']\n",
    "    return df"
   ]
  },
  {
   "cell_type": "code",
   "execution_count": 286,
   "metadata": {},
   "outputs": [],
   "source": [
    "def top_feats_in_doc(Xtr, features, row_id, top_n=25):\n",
    "    ''' Top tfidf features in specific document (matrix row) '''\n",
    "    row = np.squeeze(Xtr[row_id].toarray())\n",
    "    return top_tfidf_feats(row, features, top_n)"
   ]
  },
  {
   "cell_type": "code",
   "execution_count": 287,
   "metadata": {
    "scrolled": true
   },
   "outputs": [
    {
     "data": {
      "text/html": [
       "<div>\n",
       "<style scoped>\n",
       "    .dataframe tbody tr th:only-of-type {\n",
       "        vertical-align: middle;\n",
       "    }\n",
       "\n",
       "    .dataframe tbody tr th {\n",
       "        vertical-align: top;\n",
       "    }\n",
       "\n",
       "    .dataframe thead th {\n",
       "        text-align: right;\n",
       "    }\n",
       "</style>\n",
       "<table border=\"1\" class=\"dataframe\">\n",
       "  <thead>\n",
       "    <tr style=\"text-align: right;\">\n",
       "      <th></th>\n",
       "      <th>feature</th>\n",
       "      <th>tfidf</th>\n",
       "    </tr>\n",
       "  </thead>\n",
       "  <tbody>\n",
       "    <tr>\n",
       "      <th>0</th>\n",
       "      <td>aiib</td>\n",
       "      <td>0.369316</td>\n",
       "    </tr>\n",
       "    <tr>\n",
       "      <th>1</th>\n",
       "      <td>india</td>\n",
       "      <td>0.224536</td>\n",
       "    </tr>\n",
       "    <tr>\n",
       "      <th>2</th>\n",
       "      <td>projects</td>\n",
       "      <td>0.221199</td>\n",
       "    </tr>\n",
       "    <tr>\n",
       "      <th>3</th>\n",
       "      <td>dasgupta</td>\n",
       "      <td>0.209562</td>\n",
       "    </tr>\n",
       "    <tr>\n",
       "      <th>4</th>\n",
       "      <td>jacqueline</td>\n",
       "      <td>0.209562</td>\n",
       "    </tr>\n",
       "    <tr>\n",
       "      <th>5</th>\n",
       "      <td>wong</td>\n",
       "      <td>0.209562</td>\n",
       "    </tr>\n",
       "    <tr>\n",
       "      <th>6</th>\n",
       "      <td>neha</td>\n",
       "      <td>0.209562</td>\n",
       "    </tr>\n",
       "    <tr>\n",
       "      <th>7</th>\n",
       "      <td>funds</td>\n",
       "      <td>0.208702</td>\n",
       "    </tr>\n",
       "    <tr>\n",
       "      <th>8</th>\n",
       "      <td>investment</td>\n",
       "      <td>0.207197</td>\n",
       "    </tr>\n",
       "    <tr>\n",
       "      <th>9</th>\n",
       "      <td>editing</td>\n",
       "      <td>0.175952</td>\n",
       "    </tr>\n",
       "    <tr>\n",
       "      <th>10</th>\n",
       "      <td>27</td>\n",
       "      <td>0.172242</td>\n",
       "    </tr>\n",
       "    <tr>\n",
       "      <th>11</th>\n",
       "      <td>reporting</td>\n",
       "      <td>0.165671</td>\n",
       "    </tr>\n",
       "    <tr>\n",
       "      <th>12</th>\n",
       "      <td>allotting</td>\n",
       "      <td>0.157395</td>\n",
       "    </tr>\n",
       "    <tr>\n",
       "      <th>13</th>\n",
       "      <td>infrastructure</td>\n",
       "      <td>0.155592</td>\n",
       "    </tr>\n",
       "    <tr>\n",
       "      <th>14</th>\n",
       "      <td>examine</td>\n",
       "      <td>0.154958</td>\n",
       "    </tr>\n",
       "    <tr>\n",
       "      <th>15</th>\n",
       "      <td>feb</td>\n",
       "      <td>0.148387</td>\n",
       "    </tr>\n",
       "    <tr>\n",
       "      <th>16</th>\n",
       "      <td>delhi</td>\n",
       "      <td>0.144509</td>\n",
       "    </tr>\n",
       "    <tr>\n",
       "      <th>17</th>\n",
       "      <td>pandian</td>\n",
       "      <td>0.142695</td>\n",
       "    </tr>\n",
       "    <tr>\n",
       "      <th>18</th>\n",
       "      <td>reuters</td>\n",
       "      <td>0.137674</td>\n",
       "    </tr>\n",
       "    <tr>\n",
       "      <th>19</th>\n",
       "      <td>related</td>\n",
       "      <td>0.129119</td>\n",
       "    </tr>\n",
       "    <tr>\n",
       "      <th>20</th>\n",
       "      <td>china</td>\n",
       "      <td>0.126611</td>\n",
       "    </tr>\n",
       "    <tr>\n",
       "      <th>21</th>\n",
       "      <td>next</td>\n",
       "      <td>0.125410</td>\n",
       "    </tr>\n",
       "    <tr>\n",
       "      <th>22</th>\n",
       "      <td>officer</td>\n",
       "      <td>0.125410</td>\n",
       "    </tr>\n",
       "    <tr>\n",
       "      <th>23</th>\n",
       "      <td>urban</td>\n",
       "      <td>0.123105</td>\n",
       "    </tr>\n",
       "    <tr>\n",
       "      <th>24</th>\n",
       "      <td>tuesday</td>\n",
       "      <td>0.121998</td>\n",
       "    </tr>\n",
       "  </tbody>\n",
       "</table>\n",
       "</div>"
      ],
      "text/plain": [
       "           feature     tfidf\n",
       "0             aiib  0.369316\n",
       "1            india  0.224536\n",
       "2         projects  0.221199\n",
       "3         dasgupta  0.209562\n",
       "4       jacqueline  0.209562\n",
       "5             wong  0.209562\n",
       "6             neha  0.209562\n",
       "7            funds  0.208702\n",
       "8       investment  0.207197\n",
       "9          editing  0.175952\n",
       "10              27  0.172242\n",
       "11       reporting  0.165671\n",
       "12       allotting  0.157395\n",
       "13  infrastructure  0.155592\n",
       "14         examine  0.154958\n",
       "15             feb  0.148387\n",
       "16           delhi  0.144509\n",
       "17         pandian  0.142695\n",
       "18         reuters  0.137674\n",
       "19         related  0.129119\n",
       "20           china  0.126611\n",
       "21            next  0.125410\n",
       "22         officer  0.125410\n",
       "23           urban  0.123105\n",
       "24         tuesday  0.121998"
      ]
     },
     "execution_count": 287,
     "metadata": {},
     "output_type": "execute_result"
    }
   ],
   "source": [
    "top_feats_in_doc(Xtr, features, 1)"
   ]
  },
  {
   "cell_type": "markdown",
   "metadata": {},
   "source": [
    "# Exploration of features by labeled sector"
   ]
  },
  {
   "cell_type": "code",
   "execution_count": 288,
   "metadata": {},
   "outputs": [
    {
     "data": {
      "text/plain": [
       "array(['MISC', 'transport', 'energy', 'industry and trade',\n",
       "       'infrastructure', 'finance', 'water and sanitation',\n",
       "       'construction', 'hydropower', 'communications',\n",
       "       'agriculture and forestry', 'education and health',\n",
       "       'humanitarian response'], dtype=object)"
      ]
     },
     "execution_count": 288,
     "metadata": {},
     "output_type": "execute_result"
    }
   ],
   "source": [
    "sectors = labeled_data['top_sector'].unique()\n",
    "sectors"
   ]
  },
  {
   "cell_type": "code",
   "execution_count": 289,
   "metadata": {},
   "outputs": [],
   "source": [
    "def top_mean_feats(Xtr, features, grp_ids=None, min_tfidf=0.1, top_n=25):\n",
    "    ''' Return the top n features that on average are most important amongst documents in rows\n",
    "        indentified by indices in grp_ids. '''\n",
    "    if grp_ids.any():\n",
    "        D = Xtr[grp_ids].toarray()\n",
    "    else:\n",
    "        D = Xtr.toarray()\n",
    "\n",
    "    D[D < min_tfidf] = 0\n",
    "    tfidf_means = np.mean(D, axis=0)\n",
    "    return top_tfidf_feats(tfidf_means, features, top_n)"
   ]
  },
  {
   "cell_type": "code",
   "execution_count": 290,
   "metadata": {},
   "outputs": [],
   "source": [
    "def top_feats_by_sector(Xtr, df, min_tfidf=0.1, top_n=25):\n",
    "    ''' Return a list of dfs, where each df holds top_n features and their mean tfidf value\n",
    "        calculated across documents with the same class label. '''\n",
    "    sector_dfs = {}\n",
    "    for sector in sectors:\n",
    "        ids = df[df['top_sector'] == sector].index\n",
    "        feats_df = top_mean_feats(Xtr, features, ids, min_tfidf=min_tfidf, top_n=top_n)\n",
    "        sector_dfs[sector] = feats_df\n",
    "    return sector_dfs"
   ]
  },
  {
   "cell_type": "code",
   "execution_count": 291,
   "metadata": {
    "scrolled": false
   },
   "outputs": [],
   "source": [
    "sector_dfs = top_feats_by_sector(Xtr, train_data)"
   ]
  },
  {
   "cell_type": "code",
   "execution_count": 292,
   "metadata": {},
   "outputs": [
    {
     "data": {
      "text/html": [
       "<div>\n",
       "<style scoped>\n",
       "    .dataframe tbody tr th:only-of-type {\n",
       "        vertical-align: middle;\n",
       "    }\n",
       "\n",
       "    .dataframe tbody tr th {\n",
       "        vertical-align: top;\n",
       "    }\n",
       "\n",
       "    .dataframe thead th {\n",
       "        text-align: right;\n",
       "    }\n",
       "</style>\n",
       "<table border=\"1\" class=\"dataframe\">\n",
       "  <thead>\n",
       "    <tr style=\"text-align: right;\">\n",
       "      <th></th>\n",
       "      <th>feature</th>\n",
       "      <th>tfidf</th>\n",
       "    </tr>\n",
       "  </thead>\n",
       "  <tbody>\n",
       "    <tr>\n",
       "      <th>0</th>\n",
       "      <td>railway</td>\n",
       "      <td>0.083361</td>\n",
       "    </tr>\n",
       "    <tr>\n",
       "      <th>1</th>\n",
       "      <td>port</td>\n",
       "      <td>0.059913</td>\n",
       "    </tr>\n",
       "    <tr>\n",
       "      <th>2</th>\n",
       "      <td>adb</td>\n",
       "      <td>0.052387</td>\n",
       "    </tr>\n",
       "    <tr>\n",
       "      <th>3</th>\n",
       "      <td>section</td>\n",
       "      <td>0.052278</td>\n",
       "    </tr>\n",
       "    <tr>\n",
       "      <th>4</th>\n",
       "      <td>road</td>\n",
       "      <td>0.035062</td>\n",
       "    </tr>\n",
       "    <tr>\n",
       "      <th>5</th>\n",
       "      <td>rolling</td>\n",
       "      <td>0.034951</td>\n",
       "    </tr>\n",
       "    <tr>\n",
       "      <th>6</th>\n",
       "      <td>along</td>\n",
       "      <td>0.034142</td>\n",
       "    </tr>\n",
       "    <tr>\n",
       "      <th>7</th>\n",
       "      <td>bmrcl</td>\n",
       "      <td>0.033059</td>\n",
       "    </tr>\n",
       "    <tr>\n",
       "      <th>8</th>\n",
       "      <td>routes</td>\n",
       "      <td>0.030942</td>\n",
       "    </tr>\n",
       "    <tr>\n",
       "      <th>9</th>\n",
       "      <td>tracks</td>\n",
       "      <td>0.028951</td>\n",
       "    </tr>\n",
       "    <tr>\n",
       "      <th>10</th>\n",
       "      <td>eib</td>\n",
       "      <td>0.028722</td>\n",
       "    </tr>\n",
       "    <tr>\n",
       "      <th>11</th>\n",
       "      <td>stock</td>\n",
       "      <td>0.028695</td>\n",
       "    </tr>\n",
       "    <tr>\n",
       "      <th>12</th>\n",
       "      <td>india</td>\n",
       "      <td>0.025792</td>\n",
       "    </tr>\n",
       "    <tr>\n",
       "      <th>13</th>\n",
       "      <td>electrification</td>\n",
       "      <td>0.025082</td>\n",
       "    </tr>\n",
       "    <tr>\n",
       "      <th>14</th>\n",
       "      <td>ebrd</td>\n",
       "      <td>0.024248</td>\n",
       "    </tr>\n",
       "    <tr>\n",
       "      <th>15</th>\n",
       "      <td>aiib</td>\n",
       "      <td>0.024043</td>\n",
       "    </tr>\n",
       "    <tr>\n",
       "      <th>16</th>\n",
       "      <td>titlagarh</td>\n",
       "      <td>0.023603</td>\n",
       "    </tr>\n",
       "    <tr>\n",
       "      <th>17</th>\n",
       "      <td>the</td>\n",
       "      <td>0.023585</td>\n",
       "    </tr>\n",
       "    <tr>\n",
       "      <th>18</th>\n",
       "      <td>corridors</td>\n",
       "      <td>0.022862</td>\n",
       "    </tr>\n",
       "    <tr>\n",
       "      <th>19</th>\n",
       "      <td>bangladesh</td>\n",
       "      <td>0.022793</td>\n",
       "    </tr>\n",
       "    <tr>\n",
       "      <th>20</th>\n",
       "      <td>tranche</td>\n",
       "      <td>0.021974</td>\n",
       "    </tr>\n",
       "    <tr>\n",
       "      <th>21</th>\n",
       "      <td>bar</td>\n",
       "      <td>0.021935</td>\n",
       "    </tr>\n",
       "    <tr>\n",
       "      <th>22</th>\n",
       "      <td>program</td>\n",
       "      <td>0.021907</td>\n",
       "    </tr>\n",
       "    <tr>\n",
       "      <th>23</th>\n",
       "      <td>density</td>\n",
       "      <td>0.021212</td>\n",
       "    </tr>\n",
       "    <tr>\n",
       "      <th>24</th>\n",
       "      <td>project</td>\n",
       "      <td>0.021010</td>\n",
       "    </tr>\n",
       "  </tbody>\n",
       "</table>\n",
       "</div>"
      ],
      "text/plain": [
       "            feature     tfidf\n",
       "0           railway  0.083361\n",
       "1              port  0.059913\n",
       "2               adb  0.052387\n",
       "3           section  0.052278\n",
       "4              road  0.035062\n",
       "5           rolling  0.034951\n",
       "6             along  0.034142\n",
       "7             bmrcl  0.033059\n",
       "8            routes  0.030942\n",
       "9            tracks  0.028951\n",
       "10              eib  0.028722\n",
       "11            stock  0.028695\n",
       "12            india  0.025792\n",
       "13  electrification  0.025082\n",
       "14             ebrd  0.024248\n",
       "15             aiib  0.024043\n",
       "16        titlagarh  0.023603\n",
       "17              the  0.023585\n",
       "18        corridors  0.022862\n",
       "19       bangladesh  0.022793\n",
       "20          tranche  0.021974\n",
       "21              bar  0.021935\n",
       "22          program  0.021907\n",
       "23          density  0.021212\n",
       "24          project  0.021010"
      ]
     },
     "execution_count": 292,
     "metadata": {},
     "output_type": "execute_result"
    }
   ],
   "source": [
    "sector_dfs['transport']"
   ]
  },
  {
   "cell_type": "code",
   "execution_count": 293,
   "metadata": {
    "scrolled": true
   },
   "outputs": [
    {
     "name": "stdout",
     "output_type": "stream",
     "text": [
      "MISC\n",
      "transport\n",
      "energy\n",
      "industry and trade\n",
      "infrastructure\n",
      "finance\n",
      "water and sanitation\n",
      "construction\n",
      "hydropower\n",
      "communications\n",
      "agriculture and forestry\n",
      "education and health\n",
      "humanitarian response\n"
     ]
    },
    {
     "data": {
      "image/png": "[encoded data removed]",
      "text/plain": [
       "<Figure size 432x288 with 1 Axes>"
      ]
     },
     "metadata": {},
     "output_type": "display_data"
    },
    {
     "data": {
      "image/png": "[encoded data removed]",
      "text/plain": [
       "<Figure size 432x288 with 1 Axes>"
      ]
     },
     "metadata": {},
     "output_type": "display_data"
    },
    {
     "data": {
      "image/png": "[encoded data removed]",
      "text/plain": [
       "<Figure size 432x288 with 1 Axes>"
      ]
     },
     "metadata": {},
     "output_type": "display_data"
    },
    {
     "data": {
      "image/png": "[encoded data removed]",
      "text/plain": [
       "<Figure size 432x288 with 1 Axes>"
      ]
     },
     "metadata": {},
     "output_type": "display_data"
    },
    {
     "data": {
      "image/png": "[encoded data removed]",
      "text/plain": [
       "<Figure size 432x288 with 1 Axes>"
      ]
     },
     "metadata": {},
     "output_type": "display_data"
    },
    {
     "data": {
      "image/png": "[encoded data removed]",
      "text/plain": [
       "<Figure size 432x288 with 1 Axes>"
      ]
     },
     "metadata": {},
     "output_type": "display_data"
    },
    {
     "data": {
      "image/png": "[encoded data removed]",
      "text/plain": [
       "<Figure size 432x288 with 1 Axes>"
      ]
     },
     "metadata": {},
     "output_type": "display_data"
    },
    {
     "data": {
      "image/png": "[encoded data removed]",
      "text/plain": [
       "<Figure size 432x288 with 1 Axes>"
      ]
     },
     "metadata": {},
     "output_type": "display_data"
    },
    {
     "data": {
      "image/png": "[encoded data removed]",
      "text/plain": [
       "<Figure size 432x288 with 1 Axes>"
      ]
     },
     "metadata": {},
     "output_type": "display_data"
    },
    {
     "data": {
      "image/png": "[encoded data removed]",
      "text/plain": [
       "<Figure size 432x288 with 1 Axes>"
      ]
     },
     "metadata": {},
     "output_type": "display_data"
    },
    {
     "data": {
      "image/png": "[encoded data removed]",
      "text/plain": [
       "<Figure size 432x288 with 1 Axes>"
      ]
     },
     "metadata": {},
     "output_type": "display_data"
    },
    {
     "data": {
      "image/png": "[encoded data removed]",
      "text/plain": [
       "<Figure size 432x288 with 1 Axes>"
      ]
     },
     "metadata": {},
     "output_type": "display_data"
    },
    {
     "data": {
      "image/png": "[encoded data removed]",
      "text/plain": [
       "<Figure size 432x288 with 1 Axes>"
      ]
     },
     "metadata": {},
     "output_type": "display_data"
    }
   ],
   "source": [
    "for sector, df in sector_dfs.items():\n",
    "    print(sector)\n",
    "    df.plot.barh('feature', 'tfidf')"
   ]
  },
  {
   "cell_type": "markdown",
   "metadata": {},
   "source": [
    "# Actually take advantage of labeled data to train according\n",
    "# to tf-idf scores"
   ]
  },
  {
   "cell_type": "code",
   "execution_count": 294,
   "metadata": {},
   "outputs": [],
   "source": [
    "from sklearn.naive_bayes import MultinomialNB"
   ]
  },
  {
   "cell_type": "markdown",
   "metadata": {},
   "source": [
    "dont know if keeping things categorical is great here"
   ]
  },
  {
   "cell_type": "code",
   "execution_count": 295,
   "metadata": {},
   "outputs": [],
   "source": [
    "bayes_pip = Pipeline([('vec', vectorizer), ('clf', MultinomialNB())])"
   ]
  },
  {
   "cell_type": "code",
   "execution_count": 297,
   "metadata": {},
   "outputs": [],
   "source": [
    "text_clf = bayes_pip.fit(train_data['article_text'], train_data['top_sector'])"
   ]
  },
  {
   "cell_type": "code",
   "execution_count": 298,
   "metadata": {},
   "outputs": [],
   "source": [
    "predicted = text_clf.predict(test_data['article_keywords'].apply(\n",
    "    lambda x: ' '.join(x)))"
   ]
  },
  {
   "cell_type": "code",
   "execution_count": 299,
   "metadata": {
    "scrolled": true
   },
   "outputs": [
    {
     "data": {
      "text/plain": [
       "0.43478260869565216"
      ]
     },
     "execution_count": 299,
     "metadata": {},
     "output_type": "execute_result"
    }
   ],
   "source": [
    "np.mean(predicted == test_data['top_sector'])"
   ]
  },
  {
   "cell_type": "code",
   "execution_count": 300,
   "metadata": {},
   "outputs": [
    {
     "data": {
      "text/plain": [
       "array(['energy', 'energy', 'energy', 'energy', 'energy', 'infrastructure',\n",
       "       'energy', 'energy', 'water and sanitation', 'energy', 'energy',\n",
       "       'energy', 'energy', 'energy', 'energy', 'energy', 'infrastructure',\n",
       "       'energy', 'energy', 'energy', 'energy', 'infrastructure', 'energy',\n",
       "       'energy', 'energy', 'energy', 'energy', 'energy', 'energy',\n",
       "       'energy', 'energy', 'energy', 'finance', 'energy', 'energy',\n",
       "       'energy', 'energy', 'energy', 'water and sanitation', 'energy',\n",
       "       'energy', 'energy', 'energy', 'energy', 'energy', 'energy'],\n",
       "      dtype='<U24')"
      ]
     },
     "execution_count": 300,
     "metadata": {},
     "output_type": "execute_result"
    }
   ],
   "source": [
    "predicted"
   ]
  },
  {
   "cell_type": "code",
   "execution_count": 301,
   "metadata": {},
   "outputs": [],
   "source": [
    "from sklearn import metrics"
   ]
  },
  {
   "cell_type": "code",
   "execution_count": 302,
   "metadata": {},
   "outputs": [
    {
     "name": "stderr",
     "output_type": "stream",
     "text": [
      "/anaconda3/lib/python3.6/site-packages/sklearn/metrics/classification.py:1135: UndefinedMetricWarning: F-score is ill-defined and being set to 0.0 in labels with no predicted samples.\n",
      "  'precision', 'predicted', average, warn_for)\n"
     ]
    },
    {
     "data": {
      "text/plain": [
       "array([0.        , 0.54545455, 0.        , 0.44444444, 0.        ,\n",
       "       0.        , 0.8       , 0.25      , 0.        ])"
      ]
     },
     "execution_count": 302,
     "metadata": {},
     "output_type": "execute_result"
    }
   ],
   "source": [
    "metrics.f1_score(test_data['top_sector'], predicted, average=None,\n",
    "                labels=test_data['top_sector'].unique())"
   ]
  },
  {
   "cell_type": "code",
   "execution_count": 303,
   "metadata": {},
   "outputs": [
    {
     "data": {
      "text/plain": [
       "['MISC',\n",
       " 'communications',\n",
       " 'education and health',\n",
       " 'energy',\n",
       " 'finance',\n",
       " 'industry and trade',\n",
       " 'infrastructure',\n",
       " 'transport',\n",
       " 'water and sanitation']"
      ]
     },
     "execution_count": 303,
     "metadata": {},
     "output_type": "execute_result"
    }
   ],
   "source": [
    "#labels are sorted\n",
    "sorted(list(test_data['top_sector'].unique()))"
   ]
  },
  {
   "cell_type": "code",
   "execution_count": 304,
   "metadata": {},
   "outputs": [],
   "source": [
    "quick_predict = text_clf.predict(data['article_text'])"
   ]
  },
  {
   "cell_type": "code",
   "execution_count": 305,
   "metadata": {},
   "outputs": [],
   "source": [
    "data['predicted_sector'] = quick_predict"
   ]
  },
  {
   "cell_type": "code",
   "execution_count": 306,
   "metadata": {},
   "outputs": [],
   "source": [
    "data.to_csv('data_with_predictions.csv', index=False)"
   ]
  },
  {
   "cell_type": "code",
   "execution_count": 307,
   "metadata": {},
   "outputs": [
    {
     "data": {
      "text/plain": [
       "predicted_sector\n",
       "energy                  10566\n",
       "finance                    53\n",
       "infrastructure             41\n",
       "transport                  11\n",
       "water and sanitation        3\n",
       "dtype: int64"
      ]
     },
     "execution_count": 307,
     "metadata": {},
     "output_type": "execute_result"
    }
   ],
   "source": [
    "data.groupby('predicted_sector').size()"
   ]
  },
  {
   "cell_type": "markdown",
   "metadata": {},
   "source": [
    "# Verification"
   ]
  },
  {
   "cell_type": "code",
   "execution_count": null,
   "metadata": {},
   "outputs": [],
   "source": [
    "from sklearn.metrics"
   ]
  },
  {
   "cell_type": "markdown",
   "metadata": {},
   "source": [
    "# K-Means clustering of texts by features??\n",
    "http://i0.kym-cdn.com/entries/icons/mobile/000/008/342/ihave.jpg"
   ]
  },
  {
   "cell_type": "code",
   "execution_count": 91,
   "metadata": {},
   "outputs": [],
   "source": [
    "from sklearn.cluster import KMeans\n",
    "from sklearn import metrics\n",
    "from sklearn.decomposition import TruncatedSVD\n",
    "from sklearn.preprocessing import Normalizer\n",
    "from sklearn.pipeline import make_pipeline"
   ]
  },
  {
   "cell_type": "code",
   "execution_count": 96,
   "metadata": {},
   "outputs": [
    {
     "name": "stdout",
     "output_type": "stream",
     "text": [
      "done in 9.145071s\n",
      "Explained variance of the SVD step: 21%\n",
      "\n"
     ]
    }
   ],
   "source": [
    "svd = TruncatedSVD(len(sectors))\n",
    "normalizer = Normalizer(copy=False)\n",
    "lsa = make_pipeline(svd, normalizer)\n",
    "\n",
    "Xtr_norm = lsa.fit_transform(Xtr)\n",
    "\n",
    "print(\"done in %fs\" % (time() - t0))\n",
    "\n",
    "explained_variance = svd.explained_variance_ratio_.sum()\n",
    "print(\"Explained variance of the SVD step: {}%\".format(\n",
    "    int(explained_variance * 100)))\n",
    "\n",
    "print()"
   ]
  },
  {
   "cell_type": "code",
   "execution_count": 99,
   "metadata": {
    "scrolled": false
   },
   "outputs": [
    {
     "name": "stdout",
     "output_type": "stream",
     "text": [
      "Clustering sparse data with KMeans(algorithm='auto', copy_x=True, init='k-means++', max_iter=100,\n",
      "    n_clusters=13, n_init=1, n_jobs=1, precompute_distances='auto',\n",
      "    random_state=None, tol=0.0001, verbose=True)\n",
      "Initialization complete\n",
      "start iteration\n",
      "done sorting\n",
      "end inner loop\n",
      "Iteration 0, inertia 66.14911487674657\n",
      "start iteration\n",
      "done sorting\n",
      "end inner loop\n",
      "Iteration 1, inertia 59.07331968624757\n",
      "start iteration\n",
      "done sorting\n",
      "end inner loop\n",
      "Iteration 2, inertia 57.5862654143493\n",
      "start iteration\n",
      "done sorting\n",
      "end inner loop\n",
      "Iteration 3, inertia 55.7103420948266\n",
      "start iteration\n",
      "done sorting\n",
      "end inner loop\n",
      "Iteration 4, inertia 54.87157378102595\n",
      "start iteration\n",
      "done sorting\n",
      "end inner loop\n",
      "Iteration 5, inertia 54.859249436187525\n",
      "start iteration\n",
      "done sorting\n",
      "end inner loop\n",
      "Iteration 6, inertia 54.83478648475717\n",
      "start iteration\n",
      "done sorting\n",
      "end inner loop\n",
      "Iteration 7, inertia 54.83478648475717\n",
      "center shift 0.000000e+00 within tolerance 4.910053e-06\n",
      "done in 0.023s\n",
      "\n",
      "Homogeneity: 0.442\n",
      "Completeness: 1.000\n",
      "V-measure: 0.613\n",
      "Adjusted Rand-Index: 0.016\n",
      "Silhouette Coefficient: 0.356\n",
      "\n",
      "Top terms per cluster:\n",
      "Cluster 0: adb ameriabank armenia banking smes philippines pnoc growth gas billion\n",
      "Cluster 1: adb health the government project said country million development sector\n",
      "Cluster 2: power energy the project renewable solar african afdb fund bank\n",
      "Cluster 3: trend news if subscriber website cookies agency using login password\n",
      "Cluster 4: aiib india projects investment infrastructure related funds energy pandian urban\n",
      "Cluster 5: ebrd the million bank european loan said health euros development\n",
      "Cluster 6: energy solar power adb renewable indonesia the financing mw grimm\n",
      "Cluster 7: water supply towns the project adb bhagalpur gaya bihar urban\n",
      "Cluster 8: african fund africa bank the afdb currency local development support\n",
      "Cluster 9: gas tap pipeline euros trans billion azerbaijan european adriatic expected\n",
      "Cluster 10: project the rural road million adb development said bank water\n",
      "Cluster 11: bangladesh aiib power ostfield projects said bhola communications loans infrastructure\n",
      "Cluster 12: railway rolling stock adb program bangladesh section the along rail\n"
     ]
    }
   ],
   "source": [
    "km = KMeans(n_clusters=len(sectors), init='k-means++', max_iter=100, n_init=1,\n",
    "                verbose=True)\n",
    "\n",
    "print(\"Clustering sparse data with %s\" % km)\n",
    "t0 = time()\n",
    "km.fit(Xtr_norm)\n",
    "print(\"done in %0.3fs\" % (time() - t0))\n",
    "print()\n",
    "\n",
    "print(\"Homogeneity: %0.3f\" % metrics.homogeneity_score(labeled_data['article_text'], km.labels_))\n",
    "print(\"Completeness: %0.3f\" % metrics.completeness_score(labeled_data['article_text'], km.labels_))\n",
    "print(\"V-measure: %0.3f\" % metrics.v_measure_score(labeled_data['article_text'], km.labels_))\n",
    "print(\"Adjusted Rand-Index: %.3f\"\n",
    "      % metrics.adjusted_rand_score(labeled_data['article_text'], km.labels_))\n",
    "print(\"Silhouette Coefficient: %0.3f\"\n",
    "      % metrics.silhouette_score(Xtr_norm, km.labels_, sample_size=1000))\n",
    "\n",
    "print()\n",
    "\n",
    "print(\"Top terms per cluster:\")\n",
    "\n",
    "original_space_centroids = svd.inverse_transform(km.cluster_centers_)\n",
    "order_centroids = original_space_centroids.argsort()[:, ::-1]\n",
    "\n",
    "terms = vectorizer.get_feature_names()\n",
    "for i in range(len(sectors)):\n",
    "    print(\"Cluster %d:\" % i, end='')\n",
    "    for ind in order_centroids[i, :10]:\n",
    "        print(' %s' % terms[ind], end='')\n",
    "    print()"
   ]
  },
  {
   "cell_type": "markdown",
   "metadata": {},
   "source": [
    "# Since Bayes is so poor, predict according to cluster"
   ]
  },
  {
   "cell_type": "code",
   "execution_count": null,
   "metadata": {},
   "outputs": [],
   "source": [
    "#first, identify cluster by highest ranking sector"
   ]
  }
 ],
 "metadata": {
  "kernelspec": {
   "display_name": "Python 3",
   "language": "python",
   "name": "python3"
  },
  "language_info": {
   "codemirror_mode": {
    "name": "ipython",
    "version": 3
   },
   "file_extension": ".py",
   "mimetype": "text/x-python",
   "name": "python",
   "nbconvert_exporter": "python",
   "pygments_lexer": "ipython3",
   "version": "3.6.5"
  }
 },
 "nbformat": 4,
 "nbformat_minor": 2
}
