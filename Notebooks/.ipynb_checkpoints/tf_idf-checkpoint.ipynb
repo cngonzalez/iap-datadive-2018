{
 "cells": [
  {
   "cell_type": "code",
   "execution_count": 140,
   "metadata": {},
   "outputs": [],
   "source": [
    "from __future__ import print_function\n",
    "\n",
    "from pprint import pprint\n",
    "from time import time\n",
    "import logging\n",
    "\n",
    "from sklearn.datasets import fetch_20newsgroups\n",
    "from sklearn.feature_extraction.text import CountVectorizer\n",
    "from sklearn.feature_extraction.text import TfidfTransformer\n",
    "from sklearn.linear_model import SGDClassifier\n",
    "from sklearn.model_selection import GridSearchCV\n",
    "from sklearn.pipeline import Pipeline\n",
    "import pandas as pd\n",
    "import numpy as np\n",
    "import matplotlib.pyplot as plt\n",
    "\n",
    "from nltk.corpus import stopwords"
   ]
  },
  {
   "cell_type": "markdown",
   "metadata": {},
   "source": [
    "# Read in Dataset"
   ]
  },
  {
   "cell_type": "code",
   "execution_count": 141,
   "metadata": {},
   "outputs": [],
   "source": [
    "project_data = pd.read_pickle('../Data/EWS_Published Project_Listing_DD.pkl')"
   ]
  },
  {
   "cell_type": "code",
   "execution_count": 142,
   "metadata": {},
   "outputs": [],
   "source": [
    "data = pd.read_pickle('../Data/Feedly_Processed_DF_cleaned.pkl')"
   ]
  },
  {
   "cell_type": "code",
   "execution_count": 143,
   "metadata": {},
   "outputs": [],
   "source": [
    "train_data = pd.read_csv('../Data/Labeled_Data/sectors.csv')"
   ]
  },
  {
   "cell_type": "code",
   "execution_count": 144,
   "metadata": {},
   "outputs": [],
   "source": [
    "data_with_sectors = data.merge(train_data[['article_id', 'Sectors', 'cl_Sector', 'top_sector']],\n",
    "                    on='article_id')"
   ]
  },
  {
   "cell_type": "markdown",
   "metadata": {},
   "source": [
    "# Process train data"
   ]
  },
  {
   "cell_type": "code",
   "execution_count": 145,
   "metadata": {},
   "outputs": [],
   "source": [
    "labeled_data = data_with_sectors.dropna(how='all',\n",
    "    subset=['Sectors', 'cl_Sector', 'top_sector'])"
   ]
  },
  {
   "cell_type": "code",
   "execution_count": 146,
   "metadata": {
    "scrolled": true
   },
   "outputs": [
    {
     "data": {
      "text/plain": [
       "(296, 14)"
      ]
     },
     "execution_count": 146,
     "metadata": {},
     "output_type": "execute_result"
    }
   ],
   "source": [
    "labeled_data.shape"
   ]
  },
  {
   "cell_type": "code",
   "execution_count": 147,
   "metadata": {},
   "outputs": [
    {
     "data": {
      "text/html": [
       "<div>\n",
       "<style scoped>\n",
       "    .dataframe tbody tr th:only-of-type {\n",
       "        vertical-align: middle;\n",
       "    }\n",
       "\n",
       "    .dataframe tbody tr th {\n",
       "        vertical-align: top;\n",
       "    }\n",
       "\n",
       "    .dataframe thead th {\n",
       "        text-align: right;\n",
       "    }\n",
       "</style>\n",
       "<table border=\"1\" class=\"dataframe\">\n",
       "  <thead>\n",
       "    <tr style=\"text-align: right;\">\n",
       "      <th></th>\n",
       "      <th>article_id</th>\n",
       "      <th>title</th>\n",
       "      <th>url</th>\n",
       "      <th>feed_label</th>\n",
       "      <th>content</th>\n",
       "      <th>published</th>\n",
       "      <th>summary</th>\n",
       "      <th>article_text</th>\n",
       "      <th>article_keywords</th>\n",
       "      <th>article_text_len</th>\n",
       "      <th>top_lang</th>\n",
       "      <th>Sectors</th>\n",
       "      <th>cl_Sector</th>\n",
       "      <th>top_sector</th>\n",
       "    </tr>\n",
       "  </thead>\n",
       "  <tbody>\n",
       "    <tr>\n",
       "      <th>0</th>\n",
       "      <td>5eca9220</td>\n",
       "      <td>AfDB, GCF partner on 'Desert-to-Power' scheme</td>\n",
       "      <td>http://thenationonlineng.net/afdb-gcf-partner-...</td>\n",
       "      <td>NEWS AFDB- All Streams</td>\n",
       "      <td>NaN</td>\n",
       "      <td>2018-05-31 19:02:38</td>\n",
       "      <td>&lt;table border=\"0\" cellspacing=\"3\" cellpadding=...</td>\n",
       "      <td>The African Development Bank (AfDB), Green Cli...</td>\n",
       "      <td>[region, development, africa50, deserttopower,...</td>\n",
       "      <td>2770</td>\n",
       "      <td>en</td>\n",
       "      <td>Not a project</td>\n",
       "      <td>MISC</td>\n",
       "      <td>MISC</td>\n",
       "    </tr>\n",
       "    <tr>\n",
       "      <th>1</th>\n",
       "      <td>ee5530a3</td>\n",
       "      <td>AIIB approves $1.5 bln of loans to India for i...</td>\n",
       "      <td>https://www.reuters.com/article/aiib-india-inv...</td>\n",
       "      <td>NEWS AIIB - All Streams</td>\n",
       "      <td>NaN</td>\n",
       "      <td>2018-02-27 04:08:22</td>\n",
       "      <td>&lt;table border=\"0\" cellspacing=\"3\" cellpadding=...</td>\n",
       "      <td>NEW DELHI, Feb 27 (Reuters) - China-based Asia...</td>\n",
       "      <td>[senior, urban, tuesdaythe, india, bln, used, ...</td>\n",
       "      <td>506</td>\n",
       "      <td>en</td>\n",
       "      <td>transport</td>\n",
       "      <td>transport</td>\n",
       "      <td>transport</td>\n",
       "    </tr>\n",
       "    <tr>\n",
       "      <th>2</th>\n",
       "      <td>185416ad</td>\n",
       "      <td>India, ADB sign USD 250 million loan agreement...</td>\n",
       "      <td>https://steelguru.com/auto/india-adb-sign-usd-...</td>\n",
       "      <td>NEWS ADB - All Streams</td>\n",
       "      <td>NaN</td>\n",
       "      <td>2018-02-01 04:39:23</td>\n",
       "      <td>&lt;table border=\"0\" cellspacing=\"3\" cellpadding=...</td>\n",
       "      <td>Here are some suggestions that matches your en...</td>\n",
       "      <td>[click, responsibilitiesfeatured, resultsnewsc...</td>\n",
       "      <td>239</td>\n",
       "      <td>en</td>\n",
       "      <td>Transport</td>\n",
       "      <td>transport</td>\n",
       "      <td>transport</td>\n",
       "    </tr>\n",
       "    <tr>\n",
       "      <th>3</th>\n",
       "      <td>ef56fb55</td>\n",
       "      <td>EIB approves $1.8bn financing for Trans-Adriat...</td>\n",
       "      <td>http://transportationandstorage.energy-busines...</td>\n",
       "      <td>NEWS EIB - All streams</td>\n",
       "      <td>NaN</td>\n",
       "      <td>2018-02-07 04:59:49</td>\n",
       "      <td>&lt;table border=\"0\" cellspacing=\"3\" cellpadding=...</td>\n",
       "      <td>Compelo is using cookies\\n\\nWe use them to giv...</td>\n",
       "      <td>[cookieswe, experience, website, websiteclose,...</td>\n",
       "      <td>184</td>\n",
       "      <td>en</td>\n",
       "      <td>Energy</td>\n",
       "      <td>energy</td>\n",
       "      <td>energy</td>\n",
       "    </tr>\n",
       "    <tr>\n",
       "      <th>4</th>\n",
       "      <td>85f28676</td>\n",
       "      <td>EBRD increases its portfolio in Azerbaijan</td>\n",
       "      <td>https://en.trend.az/business/economy/2884342.html</td>\n",
       "      <td>NEWS EBRD - All streams</td>\n",
       "      <td>NaN</td>\n",
       "      <td>2018-04-09 08:03:22</td>\n",
       "      <td>&lt;table border=\"0\" cellspacing=\"3\" cellpadding=...</td>\n",
       "      <td>Baku, Azerbaijan, April 9\\n\\nBy Anvar Mammadov...</td>\n",
       "      <td>[ebrd, billion, 2018, portfolio, million, proj...</td>\n",
       "      <td>1703</td>\n",
       "      <td>en</td>\n",
       "      <td>Industry and Trade</td>\n",
       "      <td>industry and trade</td>\n",
       "      <td>industry and trade</td>\n",
       "    </tr>\n",
       "  </tbody>\n",
       "</table>\n",
       "</div>"
      ],
      "text/plain": [
       "  article_id                                              title  \\\n",
       "0   5eca9220      AfDB, GCF partner on 'Desert-to-Power' scheme   \n",
       "1   ee5530a3  AIIB approves $1.5 bln of loans to India for i...   \n",
       "2   185416ad  India, ADB sign USD 250 million loan agreement...   \n",
       "3   ef56fb55  EIB approves $1.8bn financing for Trans-Adriat...   \n",
       "4   85f28676         EBRD increases its portfolio in Azerbaijan   \n",
       "\n",
       "                                                 url               feed_label  \\\n",
       "0  http://thenationonlineng.net/afdb-gcf-partner-...   NEWS AFDB- All Streams   \n",
       "1  https://www.reuters.com/article/aiib-india-inv...  NEWS AIIB - All Streams   \n",
       "2  https://steelguru.com/auto/india-adb-sign-usd-...   NEWS ADB - All Streams   \n",
       "3  http://transportationandstorage.energy-busines...   NEWS EIB - All streams   \n",
       "4  https://en.trend.az/business/economy/2884342.html  NEWS EBRD - All streams   \n",
       "\n",
       "  content           published  \\\n",
       "0     NaN 2018-05-31 19:02:38   \n",
       "1     NaN 2018-02-27 04:08:22   \n",
       "2     NaN 2018-02-01 04:39:23   \n",
       "3     NaN 2018-02-07 04:59:49   \n",
       "4     NaN 2018-04-09 08:03:22   \n",
       "\n",
       "                                             summary  \\\n",
       "0  <table border=\"0\" cellspacing=\"3\" cellpadding=...   \n",
       "1  <table border=\"0\" cellspacing=\"3\" cellpadding=...   \n",
       "2  <table border=\"0\" cellspacing=\"3\" cellpadding=...   \n",
       "3  <table border=\"0\" cellspacing=\"3\" cellpadding=...   \n",
       "4  <table border=\"0\" cellspacing=\"3\" cellpadding=...   \n",
       "\n",
       "                                        article_text  \\\n",
       "0  The African Development Bank (AfDB), Green Cli...   \n",
       "1  NEW DELHI, Feb 27 (Reuters) - China-based Asia...   \n",
       "2  Here are some suggestions that matches your en...   \n",
       "3  Compelo is using cookies\\n\\nWe use them to giv...   \n",
       "4  Baku, Azerbaijan, April 9\\n\\nBy Anvar Mammadov...   \n",
       "\n",
       "                                    article_keywords  article_text_len  \\\n",
       "0  [region, development, africa50, deserttopower,...              2770   \n",
       "1  [senior, urban, tuesdaythe, india, bln, used, ...               506   \n",
       "2  [click, responsibilitiesfeatured, resultsnewsc...               239   \n",
       "3  [cookieswe, experience, website, websiteclose,...               184   \n",
       "4  [ebrd, billion, 2018, portfolio, million, proj...              1703   \n",
       "\n",
       "  top_lang             Sectors           cl_Sector          top_sector  \n",
       "0       en       Not a project                MISC                MISC  \n",
       "1       en           transport           transport           transport  \n",
       "2       en           Transport           transport           transport  \n",
       "3       en              Energy              energy              energy  \n",
       "4       en  Industry and Trade  industry and trade  industry and trade  "
      ]
     },
     "execution_count": 147,
     "metadata": {},
     "output_type": "execute_result"
    }
   ],
   "source": [
    "labeled_data.head()"
   ]
  },
  {
   "cell_type": "code",
   "execution_count": 151,
   "metadata": {},
   "outputs": [
    {
     "name": "stdout",
     "output_type": "stream",
     "text": [
      "[nltk_data] Downloading package stopwords to /Users/cng/nltk_data...\n",
      "[nltk_data]   Package stopwords is already up-to-date!\n"
     ]
    },
    {
     "data": {
      "text/plain": [
       "True"
      ]
     },
     "execution_count": 151,
     "metadata": {},
     "output_type": "execute_result"
    }
   ],
   "source": [
    "import nltk\n",
    "nltk.download('stopwords')"
   ]
  },
  {
   "cell_type": "code",
   "execution_count": 152,
   "metadata": {},
   "outputs": [],
   "source": [
    "stop = stopwords.words('english')"
   ]
  },
  {
   "cell_type": "code",
   "execution_count": 153,
   "metadata": {},
   "outputs": [],
   "source": [
    "labeled_data['article_text'] = labeled_data['article_text'].apply(\n",
    "    lambda x: ' '.join([word for word in x.split(' ') if word not in stop]))"
   ]
  },
  {
   "cell_type": "markdown",
   "metadata": {},
   "source": [
    "# Introduce Tf-Idf Vectorizer"
   ]
  },
  {
   "cell_type": "markdown",
   "metadata": {},
   "source": [
    "following this tutorial at this point to explore! https://buhrmann.github.io/tfidf-analysis.html"
   ]
  },
  {
   "cell_type": "code",
   "execution_count": 154,
   "metadata": {},
   "outputs": [],
   "source": [
    "from sklearn.feature_extraction.text import TfidfVectorizer\n",
    "vectorizer = TfidfVectorizer()\n",
    "#article_matrix = vectorizer.fit_transform(labeled_data_horiz['article_text'])"
   ]
  },
  {
   "cell_type": "code",
   "execution_count": 155,
   "metadata": {},
   "outputs": [],
   "source": [
    "pip = Pipeline([('vec', vectorizer)])"
   ]
  },
  {
   "cell_type": "code",
   "execution_count": 207,
   "metadata": {},
   "outputs": [],
   "source": [
    "train_data = labeled_data[:250]\n",
    "test_data = labeled_data.loc[250:]"
   ]
  },
  {
   "cell_type": "code",
   "execution_count": 235,
   "metadata": {},
   "outputs": [
    {
     "data": {
      "text/plain": [
       "Index(['article_id', 'title', 'url', 'feed_label', 'content', 'published',\n",
       "       'summary', 'article_text', 'article_keywords', 'article_text_len',\n",
       "       'top_lang', 'Sectors', 'cl_Sector', 'top_sector', 'MISC',\n",
       "       'agriculture and forestry', 'communications', 'construction',\n",
       "       'education and health', 'energy', 'finance', 'humanitarian response',\n",
       "       'hydropower', 'industry and trade', 'infrastructure', 'transport',\n",
       "       'water and sanitation'],\n",
       "      dtype='object')"
      ]
     },
     "execution_count": 235,
     "metadata": {},
     "output_type": "execute_result"
    }
   ],
   "source": [
    "train_data.columns"
   ]
  },
  {
   "cell_type": "code",
   "execution_count": 237,
   "metadata": {},
   "outputs": [],
   "source": [
    "Xtr = pip.fit_transform(train_data['article_keywords'].apply(lambda x: ' '.join(x)))"
   ]
  },
  {
   "cell_type": "code",
   "execution_count": 238,
   "metadata": {},
   "outputs": [],
   "source": [
    "vec = pip.named_steps['vec']"
   ]
  },
  {
   "cell_type": "code",
   "execution_count": 239,
   "metadata": {},
   "outputs": [],
   "source": [
    "features = vec.get_feature_names()"
   ]
  },
  {
   "cell_type": "code",
   "execution_count": 240,
   "metadata": {},
   "outputs": [
    {
     "data": {
      "text/plain": [
       "1243"
      ]
     },
     "execution_count": 240,
     "metadata": {},
     "output_type": "execute_result"
    }
   ],
   "source": [
    "len(features)"
   ]
  },
  {
   "cell_type": "code",
   "execution_count": 241,
   "metadata": {},
   "outputs": [],
   "source": [
    "def top_tfidf_feats(row, features, top_n=25):\n",
    "    ''' Get top n tfidf values in row and return them with their corresponding feature names.'''\n",
    "    topn_ids = np.argsort(row)[::-1][:top_n]\n",
    "    top_feats = [(features[i], row[i]) for i in topn_ids]\n",
    "    df = pd.DataFrame(top_feats)\n",
    "    df.columns = ['feature', 'tfidf']\n",
    "    return df"
   ]
  },
  {
   "cell_type": "code",
   "execution_count": 242,
   "metadata": {},
   "outputs": [],
   "source": [
    "def top_feats_in_doc(Xtr, features, row_id, top_n=25):\n",
    "    ''' Top tfidf features in specific document (matrix row) '''\n",
    "    row = np.squeeze(Xtr[row_id].toarray())\n",
    "    return top_tfidf_feats(row, features, top_n)"
   ]
  },
  {
   "cell_type": "code",
   "execution_count": 243,
   "metadata": {
    "scrolled": true
   },
   "outputs": [
    {
     "data": {
      "text/html": [
       "<div>\n",
       "<style scoped>\n",
       "    .dataframe tbody tr th:only-of-type {\n",
       "        vertical-align: middle;\n",
       "    }\n",
       "\n",
       "    .dataframe tbody tr th {\n",
       "        vertical-align: top;\n",
       "    }\n",
       "\n",
       "    .dataframe thead th {\n",
       "        text-align: right;\n",
       "    }\n",
       "</style>\n",
       "<table border=\"1\" class=\"dataframe\">\n",
       "  <thead>\n",
       "    <tr style=\"text-align: right;\">\n",
       "      <th></th>\n",
       "      <th>feature</th>\n",
       "      <th>tfidf</th>\n",
       "    </tr>\n",
       "  </thead>\n",
       "  <tbody>\n",
       "    <tr>\n",
       "      <th>0</th>\n",
       "      <td>tuesdaythe</td>\n",
       "      <td>0.370330</td>\n",
       "    </tr>\n",
       "    <tr>\n",
       "      <th>1</th>\n",
       "      <td>wong</td>\n",
       "      <td>0.370330</td>\n",
       "    </tr>\n",
       "    <tr>\n",
       "      <th>2</th>\n",
       "      <td>used</td>\n",
       "      <td>0.312510</td>\n",
       "    </tr>\n",
       "    <tr>\n",
       "      <th>3</th>\n",
       "      <td>senior</td>\n",
       "      <td>0.303397</td>\n",
       "    </tr>\n",
       "    <tr>\n",
       "      <th>4</th>\n",
       "      <td>bln</td>\n",
       "      <td>0.275728</td>\n",
       "    </tr>\n",
       "    <tr>\n",
       "      <th>5</th>\n",
       "      <td>urban</td>\n",
       "      <td>0.256097</td>\n",
       "    </tr>\n",
       "    <tr>\n",
       "      <th>6</th>\n",
       "      <td>funds</td>\n",
       "      <td>0.256097</td>\n",
       "    </tr>\n",
       "    <tr>\n",
       "      <th>7</th>\n",
       "      <td>15</td>\n",
       "      <td>0.237540</td>\n",
       "    </tr>\n",
       "    <tr>\n",
       "      <th>8</th>\n",
       "      <td>india</td>\n",
       "      <td>0.213200</td>\n",
       "    </tr>\n",
       "    <tr>\n",
       "      <th>9</th>\n",
       "      <td>aiib</td>\n",
       "      <td>0.208796</td>\n",
       "    </tr>\n",
       "    <tr>\n",
       "      <th>10</th>\n",
       "      <td>loans</td>\n",
       "      <td>0.197069</td>\n",
       "    </tr>\n",
       "    <tr>\n",
       "      <th>11</th>\n",
       "      <td>investment</td>\n",
       "      <td>0.184031</td>\n",
       "    </tr>\n",
       "    <tr>\n",
       "      <th>12</th>\n",
       "      <td>infrastructure</td>\n",
       "      <td>0.178341</td>\n",
       "    </tr>\n",
       "    <tr>\n",
       "      <th>13</th>\n",
       "      <td>approves</td>\n",
       "      <td>0.171837</td>\n",
       "    </tr>\n",
       "    <tr>\n",
       "      <th>14</th>\n",
       "      <td>bank</td>\n",
       "      <td>0.160438</td>\n",
       "    </tr>\n",
       "    <tr>\n",
       "      <th>15</th>\n",
       "      <td>projects</td>\n",
       "      <td>0.153458</td>\n",
       "    </tr>\n",
       "    <tr>\n",
       "      <th>16</th>\n",
       "      <td>fidelity</td>\n",
       "      <td>0.000000</td>\n",
       "    </tr>\n",
       "    <tr>\n",
       "      <th>17</th>\n",
       "      <td>fintech</td>\n",
       "      <td>0.000000</td>\n",
       "    </tr>\n",
       "    <tr>\n",
       "      <th>18</th>\n",
       "      <td>financial</td>\n",
       "      <td>0.000000</td>\n",
       "    </tr>\n",
       "    <tr>\n",
       "      <th>19</th>\n",
       "      <td>finances</td>\n",
       "      <td>0.000000</td>\n",
       "    </tr>\n",
       "    <tr>\n",
       "      <th>20</th>\n",
       "      <td>finance</td>\n",
       "      <td>0.000000</td>\n",
       "    </tr>\n",
       "    <tr>\n",
       "      <th>21</th>\n",
       "      <td>fincorp</td>\n",
       "      <td>0.000000</td>\n",
       "    </tr>\n",
       "    <tr>\n",
       "      <th>22</th>\n",
       "      <td>finland</td>\n",
       "      <td>0.000000</td>\n",
       "    </tr>\n",
       "    <tr>\n",
       "      <th>23</th>\n",
       "      <td>financing</td>\n",
       "      <td>0.000000</td>\n",
       "    </tr>\n",
       "    <tr>\n",
       "      <th>24</th>\n",
       "      <td>firm</td>\n",
       "      <td>0.000000</td>\n",
       "    </tr>\n",
       "  </tbody>\n",
       "</table>\n",
       "</div>"
      ],
      "text/plain": [
       "           feature     tfidf\n",
       "0       tuesdaythe  0.370330\n",
       "1             wong  0.370330\n",
       "2             used  0.312510\n",
       "3           senior  0.303397\n",
       "4              bln  0.275728\n",
       "5            urban  0.256097\n",
       "6            funds  0.256097\n",
       "7               15  0.237540\n",
       "8            india  0.213200\n",
       "9             aiib  0.208796\n",
       "10           loans  0.197069\n",
       "11      investment  0.184031\n",
       "12  infrastructure  0.178341\n",
       "13        approves  0.171837\n",
       "14            bank  0.160438\n",
       "15        projects  0.153458\n",
       "16        fidelity  0.000000\n",
       "17         fintech  0.000000\n",
       "18       financial  0.000000\n",
       "19        finances  0.000000\n",
       "20         finance  0.000000\n",
       "21         fincorp  0.000000\n",
       "22         finland  0.000000\n",
       "23       financing  0.000000\n",
       "24            firm  0.000000"
      ]
     },
     "execution_count": 243,
     "metadata": {},
     "output_type": "execute_result"
    }
   ],
   "source": [
    "top_feats_in_doc(Xtr, features, 1)"
   ]
  },
  {
   "cell_type": "markdown",
   "metadata": {},
   "source": [
    "# Exploration of features by labeled sector"
   ]
  },
  {
   "cell_type": "code",
   "execution_count": 244,
   "metadata": {},
   "outputs": [
    {
     "data": {
      "text/plain": [
       "array(['MISC', 'transport', 'energy', 'industry and trade',\n",
       "       'infrastructure', 'finance', 'water and sanitation',\n",
       "       'construction', 'hydropower', 'communications',\n",
       "       'agriculture and forestry', 'education and health',\n",
       "       'humanitarian response'], dtype=object)"
      ]
     },
     "execution_count": 244,
     "metadata": {},
     "output_type": "execute_result"
    }
   ],
   "source": [
    "sectors = labeled_data['top_sector'].unique()\n",
    "sectors"
   ]
  },
  {
   "cell_type": "code",
   "execution_count": 245,
   "metadata": {},
   "outputs": [],
   "source": [
    "def top_mean_feats(Xtr, features, grp_ids=None, min_tfidf=0.1, top_n=25):\n",
    "    ''' Return the top n features that on average are most important amongst documents in rows\n",
    "        indentified by indices in grp_ids. '''\n",
    "    if grp_ids.any():\n",
    "        D = Xtr[grp_ids].toarray()\n",
    "    else:\n",
    "        D = Xtr.toarray()\n",
    "\n",
    "    D[D < min_tfidf] = 0\n",
    "    tfidf_means = np.mean(D, axis=0)\n",
    "    return top_tfidf_feats(tfidf_means, features, top_n)"
   ]
  },
  {
   "cell_type": "code",
   "execution_count": 246,
   "metadata": {},
   "outputs": [],
   "source": [
    "def top_feats_by_sector(Xtr, df, min_tfidf=0.1, top_n=25):\n",
    "    ''' Return a list of dfs, where each df holds top_n features and their mean tfidf value\n",
    "        calculated across documents with the same class label. '''\n",
    "    sector_dfs = {}\n",
    "    for sector in sectors:\n",
    "        ids = df[df['top_sector'] == sector].index\n",
    "        feats_df = top_mean_feats(Xtr, features, ids, min_tfidf=min_tfidf, top_n=top_n)\n",
    "        sector_dfs[sector] = feats_df\n",
    "    return sector_dfs"
   ]
  },
  {
   "cell_type": "code",
   "execution_count": 247,
   "metadata": {
    "scrolled": false
   },
   "outputs": [],
   "source": [
    "sector_dfs = top_feats_by_sector(Xtr, train_data)"
   ]
  },
  {
   "cell_type": "code",
   "execution_count": 248,
   "metadata": {},
   "outputs": [
    {
     "data": {
      "text/html": [
       "<div>\n",
       "<style scoped>\n",
       "    .dataframe tbody tr th:only-of-type {\n",
       "        vertical-align: middle;\n",
       "    }\n",
       "\n",
       "    .dataframe tbody tr th {\n",
       "        vertical-align: top;\n",
       "    }\n",
       "\n",
       "    .dataframe thead th {\n",
       "        text-align: right;\n",
       "    }\n",
       "</style>\n",
       "<table border=\"1\" class=\"dataframe\">\n",
       "  <thead>\n",
       "    <tr style=\"text-align: right;\">\n",
       "      <th></th>\n",
       "      <th>feature</th>\n",
       "      <th>tfidf</th>\n",
       "    </tr>\n",
       "  </thead>\n",
       "  <tbody>\n",
       "    <tr>\n",
       "      <th>0</th>\n",
       "      <td>railway</td>\n",
       "      <td>0.077345</td>\n",
       "    </tr>\n",
       "    <tr>\n",
       "      <th>1</th>\n",
       "      <td>adb</td>\n",
       "      <td>0.057051</td>\n",
       "    </tr>\n",
       "    <tr>\n",
       "      <th>2</th>\n",
       "      <td>million</td>\n",
       "      <td>0.054549</td>\n",
       "    </tr>\n",
       "    <tr>\n",
       "      <th>3</th>\n",
       "      <td>project</td>\n",
       "      <td>0.053623</td>\n",
       "    </tr>\n",
       "    <tr>\n",
       "      <th>4</th>\n",
       "      <td>loan</td>\n",
       "      <td>0.053053</td>\n",
       "    </tr>\n",
       "    <tr>\n",
       "      <th>5</th>\n",
       "      <td>rail</td>\n",
       "      <td>0.051772</td>\n",
       "    </tr>\n",
       "    <tr>\n",
       "      <th>6</th>\n",
       "      <td>agreement</td>\n",
       "      <td>0.050476</td>\n",
       "    </tr>\n",
       "    <tr>\n",
       "      <th>7</th>\n",
       "      <td>tracks</td>\n",
       "      <td>0.049343</td>\n",
       "    </tr>\n",
       "    <tr>\n",
       "      <th>8</th>\n",
       "      <td>investment</td>\n",
       "      <td>0.043084</td>\n",
       "    </tr>\n",
       "    <tr>\n",
       "      <th>9</th>\n",
       "      <td>routes</td>\n",
       "      <td>0.042319</td>\n",
       "    </tr>\n",
       "    <tr>\n",
       "      <th>10</th>\n",
       "      <td>transport</td>\n",
       "      <td>0.040975</td>\n",
       "    </tr>\n",
       "    <tr>\n",
       "      <th>11</th>\n",
       "      <td>infrastructure</td>\n",
       "      <td>0.039888</td>\n",
       "    </tr>\n",
       "    <tr>\n",
       "      <th>12</th>\n",
       "      <td>improve</td>\n",
       "      <td>0.037817</td>\n",
       "    </tr>\n",
       "    <tr>\n",
       "      <th>13</th>\n",
       "      <td>roads</td>\n",
       "      <td>0.037465</td>\n",
       "    </tr>\n",
       "    <tr>\n",
       "      <th>14</th>\n",
       "      <td>stock</td>\n",
       "      <td>0.036300</td>\n",
       "    </tr>\n",
       "    <tr>\n",
       "      <th>15</th>\n",
       "      <td>rolling</td>\n",
       "      <td>0.036300</td>\n",
       "    </tr>\n",
       "    <tr>\n",
       "      <th>16</th>\n",
       "      <td>sign</td>\n",
       "      <td>0.035168</td>\n",
       "    </tr>\n",
       "    <tr>\n",
       "      <th>17</th>\n",
       "      <td>india</td>\n",
       "      <td>0.034722</td>\n",
       "    </tr>\n",
       "    <tr>\n",
       "      <th>18</th>\n",
       "      <td>road</td>\n",
       "      <td>0.034098</td>\n",
       "    </tr>\n",
       "    <tr>\n",
       "      <th>19</th>\n",
       "      <td>electrification</td>\n",
       "      <td>0.034062</td>\n",
       "    </tr>\n",
       "    <tr>\n",
       "      <th>20</th>\n",
       "      <td>120</td>\n",
       "      <td>0.033975</td>\n",
       "    </tr>\n",
       "    <tr>\n",
       "      <th>21</th>\n",
       "      <td>work</td>\n",
       "      <td>0.033770</td>\n",
       "    </tr>\n",
       "    <tr>\n",
       "      <th>22</th>\n",
       "      <td>bmrcl</td>\n",
       "      <td>0.031940</td>\n",
       "    </tr>\n",
       "    <tr>\n",
       "      <th>23</th>\n",
       "      <td>metro</td>\n",
       "      <td>0.031889</td>\n",
       "    </tr>\n",
       "    <tr>\n",
       "      <th>24</th>\n",
       "      <td>program</td>\n",
       "      <td>0.031784</td>\n",
       "    </tr>\n",
       "  </tbody>\n",
       "</table>\n",
       "</div>"
      ],
      "text/plain": [
       "            feature     tfidf\n",
       "0           railway  0.077345\n",
       "1               adb  0.057051\n",
       "2           million  0.054549\n",
       "3           project  0.053623\n",
       "4              loan  0.053053\n",
       "5              rail  0.051772\n",
       "6         agreement  0.050476\n",
       "7            tracks  0.049343\n",
       "8        investment  0.043084\n",
       "9            routes  0.042319\n",
       "10        transport  0.040975\n",
       "11   infrastructure  0.039888\n",
       "12          improve  0.037817\n",
       "13            roads  0.037465\n",
       "14            stock  0.036300\n",
       "15          rolling  0.036300\n",
       "16             sign  0.035168\n",
       "17            india  0.034722\n",
       "18             road  0.034098\n",
       "19  electrification  0.034062\n",
       "20              120  0.033975\n",
       "21             work  0.033770\n",
       "22            bmrcl  0.031940\n",
       "23            metro  0.031889\n",
       "24          program  0.031784"
      ]
     },
     "execution_count": 248,
     "metadata": {},
     "output_type": "execute_result"
    }
   ],
   "source": [
    "sector_dfs['transport']"
   ]
  },
  {
   "cell_type": "code",
   "execution_count": 249,
   "metadata": {
    "scrolled": true
   },
   "outputs": [
    {
     "name": "stdout",
     "output_type": "stream",
     "text": [
      "MISC\n",
      "transport\n",
      "energy\n",
      "industry and trade\n",
      "infrastructure\n",
      "finance\n",
      "water and sanitation\n",
      "construction\n",
      "hydropower\n",
      "communications\n",
      "agriculture and forestry\n",
      "education and health\n",
      "humanitarian response\n"
     ]
    },
    {
     "data": {
      "image/png": "[encoded data removed]",
      "text/plain": [
       "<Figure size 432x288 with 1 Axes>"
      ]
     },
     "metadata": {},
     "output_type": "display_data"
    },
    {
     "data": {
      "image/png": "[encoded data removed]",
      "text/plain": [
       "<Figure size 432x288 with 1 Axes>"
      ]
     },
     "metadata": {},
     "output_type": "display_data"
    },
    {
     "data": {
      "image/png": "[encoded data removed]",
      "text/plain": [
       "<Figure size 432x288 with 1 Axes>"
      ]
     },
     "metadata": {},
     "output_type": "display_data"
    },
    {
     "data": {
      "image/png": "[encoded data removed]",
      "text/plain": [
       "<Figure size 432x288 with 1 Axes>"
      ]
     },
     "metadata": {},
     "output_type": "display_data"
    },
    {
     "data": {
      "image/png": "[encoded data removed]",
      "text/plain": [
       "<Figure size 432x288 with 1 Axes>"
      ]
     },
     "metadata": {},
     "output_type": "display_data"
    },
    {
     "data": {
      "image/png": "[encoded data removed]",
      "text/plain": [
       "<Figure size 432x288 with 1 Axes>"
      ]
     },
     "metadata": {},
     "output_type": "display_data"
    },
    {
     "data": {
      "image/png": "[encoded data removed]",
      "text/plain": [
       "<Figure size 432x288 with 1 Axes>"
      ]
     },
     "metadata": {},
     "output_type": "display_data"
    },
    {
     "data": {
      "image/png": "[encoded data removed]",
      "text/plain": [
       "<Figure size 432x288 with 1 Axes>"
      ]
     },
     "metadata": {},
     "output_type": "display_data"
    },
    {
     "data": {
      "image/png": "[encoded data removed]",
      "text/plain": [
       "<Figure size 432x288 with 1 Axes>"
      ]
     },
     "metadata": {},
     "output_type": "display_data"
    },
    {
     "data": {
      "image/png": "[encoded data removed]",
      "text/plain": [
       "<Figure size 432x288 with 1 Axes>"
      ]
     },
     "metadata": {},
     "output_type": "display_data"
    },
    {
     "data": {
      "image/png": "[encoded data removed]",
      "text/plain": [
       "<Figure size 432x288 with 1 Axes>"
      ]
     },
     "metadata": {},
     "output_type": "display_data"
    },
    {
     "data": {
      "image/png": "[encoded data removed]",
      "text/plain": [
       "<Figure size 432x288 with 1 Axes>"
      ]
     },
     "metadata": {},
     "output_type": "display_data"
    },
    {
     "data": {
      "image/png": "[encoded data removed]",
      "text/plain": [
       "<Figure size 432x288 with 1 Axes>"
      ]
     },
     "metadata": {},
     "output_type": "display_data"
    }
   ],
   "source": [
    "for sector, df in sector_dfs.items():\n",
    "    print(sector)\n",
    "    df.plot.barh('feature', 'tfidf')"
   ]
  },
  {
   "cell_type": "markdown",
   "metadata": {},
   "source": [
    "# Actually take advantage of labeled data to train according\n",
    "# to tf-idf scores"
   ]
  },
  {
   "cell_type": "code",
   "execution_count": 168,
   "metadata": {},
   "outputs": [],
   "source": [
    "from sklearn.naive_bayes import MultinomialNB"
   ]
  },
  {
   "cell_type": "markdown",
   "metadata": {},
   "source": [
    "dont know if keeping things categorical is great here"
   ]
  },
  {
   "cell_type": "code",
   "execution_count": 228,
   "metadata": {},
   "outputs": [],
   "source": [
    "bayes_pip = Pipeline([('vec', vectorizer), ('clf', MultinomialNB())])"
   ]
  },
  {
   "cell_type": "code",
   "execution_count": 251,
   "metadata": {},
   "outputs": [],
   "source": [
    "text_clf = bayes_pip.fit(train_data['article_keywords'].apply(\n",
    "    lambda x: ' '.join(x)), train_data['top_sector'])"
   ]
  },
  {
   "cell_type": "code",
   "execution_count": 252,
   "metadata": {},
   "outputs": [],
   "source": [
    "predicted = text_clf.predict(test_data['article_keywords'].apply(\n",
    "    lambda x: ' '.join(x)))"
   ]
  },
  {
   "cell_type": "code",
   "execution_count": 253,
   "metadata": {
    "scrolled": true
   },
   "outputs": [
    {
     "data": {
      "text/plain": [
       "0.5"
      ]
     },
     "execution_count": 253,
     "metadata": {},
     "output_type": "execute_result"
    }
   ],
   "source": [
    "np.mean(predicted == test_data['top_sector'])"
   ]
  },
  {
   "cell_type": "code",
   "execution_count": 257,
   "metadata": {},
   "outputs": [
    {
     "data": {
      "text/plain": [
       "array(['energy', 'energy', 'energy', 'energy', 'energy', 'infrastructure',\n",
       "       'energy', 'energy', 'water and sanitation', 'energy', 'energy',\n",
       "       'finance', 'energy', 'energy', 'energy', 'energy',\n",
       "       'infrastructure', 'finance', 'energy', 'finance', 'energy',\n",
       "       'infrastructure', 'energy', 'finance', 'energy', 'energy',\n",
       "       'energy', 'energy', 'energy', 'energy', 'transport', 'energy',\n",
       "       'finance', 'energy', 'energy', 'energy', 'energy', 'energy',\n",
       "       'water and sanitation', 'energy', 'energy', 'energy', 'energy',\n",
       "       'energy', 'energy', 'energy'], dtype='<U24')"
      ]
     },
     "execution_count": 257,
     "metadata": {},
     "output_type": "execute_result"
    }
   ],
   "source": [
    "predicted"
   ]
  },
  {
   "cell_type": "code",
   "execution_count": 254,
   "metadata": {},
   "outputs": [],
   "source": [
    "from sklearn import metrics"
   ]
  },
  {
   "cell_type": "code",
   "execution_count": 259,
   "metadata": {},
   "outputs": [
    {
     "name": "stderr",
     "output_type": "stream",
     "text": [
      "/anaconda3/lib/python3.6/site-packages/sklearn/metrics/classification.py:1135: UndefinedMetricWarning: F-score is ill-defined and being set to 0.0 in labels with no predicted samples.\n",
      "  'precision', 'predicted', average, warn_for)\n"
     ]
    },
    {
     "data": {
      "text/plain": [
       "array([0.        , 0.6       , 0.28571429, 0.44444444, 0.        ,\n",
       "       0.        , 0.8       , 0.5       , 0.        ])"
      ]
     },
     "execution_count": 259,
     "metadata": {},
     "output_type": "execute_result"
    }
   ],
   "source": [
    "metrics.f1_score(test_data['top_sector'], predicted, average=None,\n",
    "                labels=test_data['top_sector'].unique())"
   ]
  },
  {
   "cell_type": "code",
   "execution_count": 262,
   "metadata": {},
   "outputs": [
    {
     "data": {
      "text/plain": [
       "['MISC',\n",
       " 'communications',\n",
       " 'education and health',\n",
       " 'energy',\n",
       " 'finance',\n",
       " 'industry and trade',\n",
       " 'infrastructure',\n",
       " 'transport',\n",
       " 'water and sanitation']"
      ]
     },
     "execution_count": 262,
     "metadata": {},
     "output_type": "execute_result"
    }
   ],
   "source": [
    "#labels are sorted\n",
    "sorted(list(test_data['top_sector'].unique()))"
   ]
  },
  {
   "cell_type": "code",
   "execution_count": null,
   "metadata": {},
   "outputs": [],
   "source": []
  },
  {
   "cell_type": "markdown",
   "metadata": {},
   "source": [
    "# Verification"
   ]
  },
  {
   "cell_type": "code",
   "execution_count": null,
   "metadata": {},
   "outputs": [],
   "source": [
    "from sklearn.metrics"
   ]
  },
  {
   "cell_type": "markdown",
   "metadata": {},
   "source": [
    "# K-Means clustering of texts by features??\n",
    "http://i0.kym-cdn.com/entries/icons/mobile/000/008/342/ihave.jpg"
   ]
  },
  {
   "cell_type": "code",
   "execution_count": 91,
   "metadata": {},
   "outputs": [],
   "source": [
    "from sklearn.cluster import KMeans\n",
    "from sklearn import metrics\n",
    "from sklearn.decomposition import TruncatedSVD\n",
    "from sklearn.preprocessing import Normalizer\n",
    "from sklearn.pipeline import make_pipeline"
   ]
  },
  {
   "cell_type": "code",
   "execution_count": 96,
   "metadata": {},
   "outputs": [
    {
     "name": "stdout",
     "output_type": "stream",
     "text": [
      "done in 9.145071s\n",
      "Explained variance of the SVD step: 21%\n",
      "\n"
     ]
    }
   ],
   "source": [
    "svd = TruncatedSVD(len(sectors))\n",
    "normalizer = Normalizer(copy=False)\n",
    "lsa = make_pipeline(svd, normalizer)\n",
    "\n",
    "Xtr_norm = lsa.fit_transform(Xtr)\n",
    "\n",
    "print(\"done in %fs\" % (time() - t0))\n",
    "\n",
    "explained_variance = svd.explained_variance_ratio_.sum()\n",
    "print(\"Explained variance of the SVD step: {}%\".format(\n",
    "    int(explained_variance * 100)))\n",
    "\n",
    "print()"
   ]
  },
  {
   "cell_type": "code",
   "execution_count": 99,
   "metadata": {
    "scrolled": true
   },
   "outputs": [
    {
     "name": "stdout",
     "output_type": "stream",
     "text": [
      "Clustering sparse data with KMeans(algorithm='auto', copy_x=True, init='k-means++', max_iter=100,\n",
      "    n_clusters=13, n_init=1, n_jobs=1, precompute_distances='auto',\n",
      "    random_state=None, tol=0.0001, verbose=True)\n",
      "Initialization complete\n",
      "start iteration\n",
      "done sorting\n",
      "end inner loop\n",
      "Iteration 0, inertia 66.14911487674657\n",
      "start iteration\n",
      "done sorting\n",
      "end inner loop\n",
      "Iteration 1, inertia 59.07331968624757\n",
      "start iteration\n",
      "done sorting\n",
      "end inner loop\n",
      "Iteration 2, inertia 57.5862654143493\n",
      "start iteration\n",
      "done sorting\n",
      "end inner loop\n",
      "Iteration 3, inertia 55.7103420948266\n",
      "start iteration\n",
      "done sorting\n",
      "end inner loop\n",
      "Iteration 4, inertia 54.87157378102595\n",
      "start iteration\n",
      "done sorting\n",
      "end inner loop\n",
      "Iteration 5, inertia 54.859249436187525\n",
      "start iteration\n",
      "done sorting\n",
      "end inner loop\n",
      "Iteration 6, inertia 54.83478648475717\n",
      "start iteration\n",
      "done sorting\n",
      "end inner loop\n",
      "Iteration 7, inertia 54.83478648475717\n",
      "center shift 0.000000e+00 within tolerance 4.910053e-06\n",
      "done in 0.023s\n",
      "\n",
      "Homogeneity: 0.442\n",
      "Completeness: 1.000\n",
      "V-measure: 0.613\n",
      "Adjusted Rand-Index: 0.016\n",
      "Silhouette Coefficient: 0.356\n",
      "\n",
      "Top terms per cluster:\n",
      "Cluster 0: adb ameriabank armenia banking smes philippines pnoc growth gas billion\n",
      "Cluster 1: adb health the government project said country million development sector\n",
      "Cluster 2: power energy the project renewable solar african afdb fund bank\n",
      "Cluster 3: trend news if subscriber website cookies agency using login password\n",
      "Cluster 4: aiib india projects investment infrastructure related funds energy pandian urban\n",
      "Cluster 5: ebrd the million bank european loan said health euros development\n",
      "Cluster 6: energy solar power adb renewable indonesia the financing mw grimm\n",
      "Cluster 7: water supply towns the project adb bhagalpur gaya bihar urban\n",
      "Cluster 8: african fund africa bank the afdb currency local development support\n",
      "Cluster 9: gas tap pipeline euros trans billion azerbaijan european adriatic expected\n",
      "Cluster 10: project the rural road million adb development said bank water\n",
      "Cluster 11: bangladesh aiib power ostfield projects said bhola communications loans infrastructure\n",
      "Cluster 12: railway rolling stock adb program bangladesh section the along rail\n"
     ]
    }
   ],
   "source": [
    "km = KMeans(n_clusters=len(sectors), init='k-means++', max_iter=100, n_init=1,\n",
    "                verbose=True)\n",
    "\n",
    "print(\"Clustering sparse data with %s\" % km)\n",
    "t0 = time()\n",
    "km.fit(Xtr_norm)\n",
    "print(\"done in %0.3fs\" % (time() - t0))\n",
    "print()\n",
    "\n",
    "print(\"Homogeneity: %0.3f\" % metrics.homogeneity_score(labeled_data['article_text'], km.labels_))\n",
    "print(\"Completeness: %0.3f\" % metrics.completeness_score(labeled_data['article_text'], km.labels_))\n",
    "print(\"V-measure: %0.3f\" % metrics.v_measure_score(labeled_data['article_text'], km.labels_))\n",
    "print(\"Adjusted Rand-Index: %.3f\"\n",
    "      % metrics.adjusted_rand_score(labeled_data['article_text'], km.labels_))\n",
    "print(\"Silhouette Coefficient: %0.3f\"\n",
    "      % metrics.silhouette_score(Xtr_norm, km.labels_, sample_size=1000))\n",
    "\n",
    "print()\n",
    "\n",
    "print(\"Top terms per cluster:\")\n",
    "\n",
    "original_space_centroids = svd.inverse_transform(km.cluster_centers_)\n",
    "order_centroids = original_space_centroids.argsort()[:, ::-1]\n",
    "\n",
    "terms = vectorizer.get_feature_names()\n",
    "for i in range(len(sectors)):\n",
    "    print(\"Cluster %d:\" % i, end='')\n",
    "    for ind in order_centroids[i, :10]:\n",
    "        print(' %s' % terms[ind], end='')\n",
    "    print()"
   ]
  }
 ],
 "metadata": {
  "kernelspec": {
   "display_name": "Python 3",
   "language": "python",
   "name": "python3"
  },
  "language_info": {
   "codemirror_mode": {
    "name": "ipython",
    "version": 3
   },
   "file_extension": ".py",
   "mimetype": "text/x-python",
   "name": "python",
   "nbconvert_exporter": "python",
   "pygments_lexer": "ipython3",
   "version": "3.6.5"
  }
 },
 "nbformat": 4,
 "nbformat_minor": 2
}
